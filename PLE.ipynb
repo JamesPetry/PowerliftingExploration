{
 "cells": [
  {
   "cell_type": "code",
   "execution_count": 10,
   "metadata": {},
   "outputs": [],
   "source": [
    "import pandas as pd\n",
    "import os\n",
    "import glob\n",
    "import matplotlib\n",
    "import matplotlib.pyplot as plt\n",
    "import numpy as np\n",
    "from datetime import datetime\n",
    "import matplotlib.mlab as mlab\n"
   ]
  },
  {
   "cell_type": "code",
   "execution_count": 11,
   "metadata": {},
   "outputs": [],
   "source": [
    "os.chdir(r'C:\\Users\\James\\1161\\PowerliftingExploration\\openpowerlifting\\meet-data\\wrpf-aus')"
   ]
  },
  {
   "cell_type": "code",
   "execution_count": 12,
   "metadata": {},
   "outputs": [
    {
     "name": "stdout",
     "output_type": "stream",
     "text": [
      "    Place                     Name Sex   BirthDate   Age    Country State Equipment Division  BodyweightKg WeightClassKg  Squat1Kg  Squat2Kg  Squat3Kg  Squat4Kg  Best3SquatKg  Bench1Kg  Bench2Kg  Bench3Kg  Best3BenchKg  Deadlift1Kg  Deadlift2Kg  Deadlift3Kg  Deadlift4Kg  Best3DeadliftKg  TotalKg Event                                  Team\n",
      "0       1             Indiana Love   F  2000-05-21   NaN  Australia   TAS     Wraps     FR-J          55.6            56      65.0     -72.5      72.5       NaN          72.5      40.0      45.0     -47.5          45.0         85.0        -90.0         90.0          NaN             90.0    207.5   SBD                      Competitive Edge\n",
      "1       1         Caitlin Mulligan   F  1999-09-12  22.0  Australia   TAS     Wraps     FR-J          59.8            60     135.0    -145.0    -150.0       NaN         135.0      62.5      70.0     -72.5          70.0        135.0        155.0        160.0          NaN            160.0    365.0   SBD                      Competitive Edge\n",
      "2       2             India Graham   F         NaN  23.0  Australia   TAS     Wraps     FR-J          59.1            60    -117.5     117.5     122.5       NaN         122.5      62.5      65.0      67.5          67.5        125.0        132.5       -137.5          NaN            132.5    322.5   SBD                     Modus Performance\n",
      "3       3                Anna Down   F  1999-09-30  22.0  Australia   TAS     Wraps     FR-J          58.1            60      85.0      92.5      97.5       NaN          97.5      42.5      47.5     -50.0          47.5         90.0         95.0        100.0          NaN            100.0    245.0   SBD                      Competitive Edge\n",
      "4      DQ              Ashley Hall   F  1999-11-09  22.0  Australia   TAS     Wraps     FR-J          57.6            60     -95.0     -95.0     -95.0       NaN           NaN      45.0     -47.5     -47.5          45.0          NaN          NaN          NaN          NaN              NaN      NaN   SBD                    Leviathan strength\n",
      "5       1            Isabella Burk   F  2001-01-18  21.0  Australia   TAS     Wraps     FR-J          63.9          67.5     130.0     140.0    -150.0       NaN         140.0      65.0      70.0     -72.5          70.0        152.5        162.5       -170.0          NaN            162.5    372.5   SBD                      Portside Barbell\n",
      "6       2       Natarlyia Mitchell   F  1999-01-06  23.0  Australia   TAS     Wraps     FR-J          64.4          67.5     115.0     120.0     125.0       NaN         125.0      67.5      72.5      75.0          75.0        135.0        150.0       -162.5          NaN            150.0    350.0   SBD                     Modus Performance\n",
      "7       3           Chloe Langmaid   F  2000-02-27  22.0  Australia   TAS     Wraps     FR-J          60.3          67.5      70.0      80.0     -90.0       NaN          80.0      40.0     -42.5      42.5          42.5         90.0        100.0       -107.5          NaN            100.0    222.5   SBD                          IRON BORN SC\n",
      "8       1               Emily Burr   F  1999-06-22  22.0  Australia   TAS     Wraps     FR-J          73.7            75     155.0    -165.0    -170.0       NaN         155.0      85.0      90.0     -92.5          90.0        145.0       -155.0        155.0          NaN            155.0    400.0   SBD                                   NaN\n",
      "9       2          Isabelle Mulder   F  2000-09-04  21.0  Australia   TAS     Wraps     FR-J          68.0            75    -105.0     105.0     115.0       NaN         115.0      60.0      65.0     -70.0          65.0        145.0        155.0        165.0          NaN            165.0    345.0   SBD        Slaughter House Gym Launceston\n",
      "10      3           Sophie Cashion   F         NaN  20.0  Australia   TAS     Wraps     FR-J          74.1            75     110.0     115.0     120.0       NaN         120.0      50.0      55.0     -57.5          55.0        135.0        145.0       -162.5          NaN            145.0    320.0   SBD                      Competitive edge\n",
      "11      4             Alicia Paice   F  2000-02-08  22.0  Australia   TAS     Wraps     FR-J          73.7            75     115.0    -125.0    -125.0       NaN         115.0      47.5      50.0     -55.0          50.0        120.0        130.0        140.0          NaN            140.0    305.0   SBD                    Leviathan Strength\n",
      "12      1         Michelle Gillett   F  1982-01-20  40.0  Australia   TAS     Wraps    FR-M1          54.8            56     120.0    -135.0    -140.0       NaN         120.0      55.0      60.0      62.5          62.5        125.0        135.0       -140.5          NaN            135.0    317.5   SBD                                   NaN\n",
      "13      1       Tania Bellchambers   F  1963-06-03   NaN  Australia   TAS     Wraps    FR-M2          58.7            60     115.0     125.0     130.0       NaN         130.0      70.0      75.0     -80.0          75.0        115.0        125.0        132.5          NaN            132.5    337.5   SBD                   Balanced / Ironborn\n",
      "14      1            Lenise Ansell   F         NaN  54.0  Australia   TAS     Wraps    FR-M2          74.8            75     105.0     110.0    -117.5       NaN         110.0      60.0      62.5      65.0          65.0        150.0        160.0       -165.0          NaN            160.0    335.0   SBD          Buff Strength & Conditioning\n",
      "15      1              Cat Stewart   F  2005-01-14  17.0  Australia   TAS     Wraps    FR-SJ          67.5          67.5     105.0    -112.5     115.0       NaN         115.0      47.5      50.0      52.5          52.5        105.0        115.0        120.0          NaN            120.0    287.5   SBD                      Competitive Edge\n",
      "16      2              Madi Willis   F  2002-10-14  19.0  Australia   TAS     Wraps    FR-SJ          65.4          67.5     105.0    -112.5    -112.5       NaN         105.0     -50.0     -55.0      55.0          55.0        110.0       -125.0       -125.0          NaN            110.0    270.0   SBD                 Slaughterhouse hobart\n",
      "17      1              Stella Reid   F  2005-01-20  17.0  Australia   TAS     Wraps    FR-SJ          74.5            75      90.0      95.0     100.0       NaN         100.0      52.5      57.5     -60.0          57.5        125.0        135.0        142.5          NaN            142.5    300.0   SBD                      Competitive Edge\n",
      "18      2             Tarni Saward   F  2004-09-26  17.0  Australia   TAS     Wraps    FR-SJ          71.5            75     105.0     112.5     117.5       NaN         117.5      52.5      57.5      60.0          60.0        100.0        110.0        120.0          NaN            120.0    297.5   SBD                      The Strenght Den\n",
      "19      1               Jayda Ling   F  2004-02-16  18.0  Australia   TAS     Wraps    FR-SJ          81.7          82.5      85.0     -95.0     105.0       NaN         105.0      57.5     -62.5     -62.5          57.5        127.5       -135.0        135.0          NaN            135.0    297.5   SBD                      Portside Barbell\n",
      "20      1          Sophie Shepherd   F  2003-05-20  19.0  Australia   TAS     Wraps    FR-SJ         119.6           90+     115.0    -122.5     122.5     130.0         122.5      55.0      57.5      60.0          60.0        130.0        147.5        160.0          NaN            160.0    342.5   SBD                      Competitive Edge\n",
      "21      1         Coorinna Burgess   F  1989-12-06  32.0  Australia   TAS     Wraps     FR-O          56.0            56     125.0     140.0    -145.0       NaN         140.0      65.0      70.0      72.5          72.5        125.0        135.0       -142.5          NaN            135.0    347.5   SBD                      Portside Barbell\n",
      "22      2               Kirbi Wood   F  1986-11-03  35.0  Australia   TAS     Wraps     FR-O          54.5            56     105.0     112.5    -117.5       NaN         112.5     -57.5      57.5     -60.0          57.5        115.0        120.0       -125.0          NaN            120.0    290.0   SBD                      Portside Barbell\n",
      "23      1         Danielle Hansson   F  1990-10-12  31.0  Australia   TAS     Wraps     FR-O          58.9            60      90.0      95.0    -100.0       NaN          95.0      65.0      67.5     -72.5          67.5        112.5        117.5        122.5          NaN            122.5    285.0   SBD                      Portside Barbell\n",
      "24      1             Maggie Smith   F  1985-07-18  36.0  Australia   TAS     Wraps     FR-O          66.1          67.5     100.0    -110.0     115.0       NaN         115.0      65.0      70.0     -75.0          70.0       -130.0        130.0        140.0          NaN            140.0    325.0   SBD              Healthy Mind Strong Body\n",
      "25      2             Toni Perkins   F  1996-10-17  25.0  Australia   TAS     Wraps     FR-O          62.8          67.5      85.0     -92.5     -92.5       NaN          85.0      47.5      50.0     -52.5          50.0         95.0        102.5        107.5          NaN            107.5    242.5   SBD                     Modus Performance\n",
      "26      1              Ally Gruber   F  1997-10-31  24.0  Australia   TAS     Wraps     FR-O          68.1            75     165.0     177.5    -190.0       NaN         177.5      92.5    -100.0     100.0         100.0        182.5        192.5        200.0          NaN            200.0    477.5   SBD                      Competitive Edge\n",
      "27      2            Alysha Verwey   F  1997-11-11  24.0  Australia   TAS     Wraps     FR-O          73.7            75     115.0     125.0     130.0       NaN         130.0      57.5      62.5     -65.0          62.5        130.0        140.0        145.0          NaN            145.0    337.5   SBD                        Girls Who Lift\n",
      "28     DQ         Hannah Berechree   F  1998-03-13  24.0  Australia   TAS     Wraps     FR-O          73.7            75    -105.0    -105.0    -105.0       NaN           NaN      42.5      47.5      52.5          52.5        105.0        115.0        122.5          NaN            122.5      NaN   SBD     Method +Action/ Modus Performance\n",
      "29      1            Emily Beswick   F  1989-05-24   NaN  Australia   TAS     Wraps     FR-O          81.5          82.5     120.0     125.0    -130.0       NaN         125.0      55.0      60.0     -65.0          60.0        120.0        132.5        142.5          NaN            142.5    327.5   SBD                                   TSD\n",
      "30      1          Kirsten Tatnell   F         NaN  27.0  Australia   TAS     Wraps     FR-O         100.8           90+      90.0      95.0     100.0       NaN         100.0      50.0      55.0     -60.0          55.0         90.0        105.0        115.0          NaN            115.0    270.0   SBD                                   NaN\n",
      "31      1              Sarah Hayes   F  2006-07-17  15.0  Australia   TAS     Wraps     FR-T          73.4            75      85.0      92.5     100.0    -110.5         100.0      40.0      45.0     -50.0          45.0        125.0        132.5        140.5       -145.0            140.5    285.5   SBD                      Competitive Edge\n",
      "32      1            Hollie Cullen   F  2009-07-23  12.0  Australia   TAS     Wraps     FR-Y          55.1            56      65.0      72.5      77.5       NaN          77.5      30.0     -35.0     -35.0          30.0         85.0         95.0       -100.0          NaN             95.0    202.5   SBD                      Competitive Edge\n",
      "33      1            Sarah Francis   F  1997-04-29  25.0  Australia   TAS       Raw     FR-O          64.0          67.5       NaN       NaN       NaN       NaN           NaN      55.0     -60.0     -60.0          55.0        120.0        127.5        130.0          NaN            130.0    185.0    BD                     Modus Performance\n",
      "34      1              Kylie Green   F  1988-10-15  33.0  Australia   TAS       Raw     FR-O          87.5            90       NaN       NaN       NaN       NaN           NaN      32.5      37.5      42.5          42.5         80.0         87.5        100.0          NaN            100.0    142.5    BD                          Iron Born SC\n",
      "35      1           Mackenzie Buck   F  2006-11-21  15.0  Australia   TAS       Raw     FR-T          74.7            75       NaN       NaN       NaN       NaN           NaN      35.0      40.0      42.5          42.5         87.5         95.0        100.0          NaN            100.0    142.5    BD                       Method + Action\n",
      "36      1               Tam Leitch   F  1984-04-05  38.0  Australia   TAS       Raw     FR-O          82.2          82.5       NaN       NaN       NaN       NaN           NaN      65.0     -70.0     -70.0          65.0          NaN          NaN          NaN          NaN              NaN     65.0     B                      Portside Barbell\n",
      "37      1          Teresa Gartside   F  1966-08-16  55.0  Australia   TAS       Raw    FR-M2          53.3            56       NaN       NaN       NaN       NaN           NaN       NaN       NaN       NaN           NaN        130.0        135.0        137.5        140.0            137.5    137.5     D                        Method +Action\n",
      "38      1             Kiara Thomas   F  1994-12-31  27.0  Australia   TAS       Raw     FR-O         107.2           90+       NaN       NaN       NaN       NaN           NaN       NaN       NaN       NaN           NaN        132.5        145.0        152.5          NaN            152.5    152.5     D                      The Strength Den\n",
      "39      1             Jacob Howard   M  1998-10-19  23.0  Australia   TAS     Wraps     MR-J          66.9          67.5     150.0    -157.5     160.0       NaN         160.0     105.0     110.0     115.0         115.0        160.0        170.0        175.0          NaN            175.0    450.0   SBD                          Iron Born SC\n",
      "40      1           Patrick McOwan   M  2001-01-24  21.0  Australia   TAS     Wraps     MR-J          72.9            75     150.0     160.0     170.0       NaN         170.0      95.0     100.0    -105.0         100.0        185.0        200.0        205.0          NaN            205.0    475.0   SBD                      Competitive Edge\n",
      "41      1               Jakk Smith   M  2001-07-19  20.0  Australia   TAS     Wraps     MR-J          79.5          82.5     217.5    -222.5    -222.5       NaN         217.5     105.0     112.5    -115.0         112.5        220.0        230.0        235.0          NaN            235.0    565.0   SBD                             Iron Born\n",
      "42      2  Kayden Randall-Reynders   M  2001-07-06  20.0  Australia   TAS     Wraps     MR-J          81.2          82.5     180.0     190.0     200.0       NaN         200.0     127.5     132.5    -135.0         132.5        185.0        195.0        205.0          NaN            205.0    537.5   SBD                      Portside Barbell\n",
      "43      1           Tyler Ratcliff   M  2001-11-22  20.0  Australia   TAS     Wraps     MR-J          88.9            90     180.0     190.0     200.0       NaN         200.0     130.0     140.0    -145.0         140.0        230.0        245.0        250.0          NaN            250.0    590.0   SBD                               Uni gym\n",
      "44      2              Oscar Davie   M  2000-09-16  21.0  Australia   TAS     Wraps     MR-J          89.1            90     185.0     200.0     205.0       NaN         205.0      90.0      95.0     100.0         100.0        220.0        232.5       -240.0          NaN            232.5    537.5   SBD                      Competitive Edge\n",
      "45      3            Samuel Peters   M  2000-12-18  21.0  Australia   TAS     Wraps     MR-J          88.0            90     170.0     182.5    -187.5       NaN         182.5    -110.0     110.0     115.0         115.0        170.0        180.0        185.0          NaN            185.0    482.5   SBD                                   NaN\n",
      "46      1             Cullen Weeks   M  2001-11-12  20.0  Australia   TAS     Wraps     MR-J          96.2           100     205.0     220.0     230.0       NaN         230.0     130.0    -140.0     140.0         140.0        225.0        242.5       -250.0          NaN            242.5    612.5   SBD                              Portside\n",
      "47      2            Jack Jones #1   M  2001-03-30  21.0  Australia   TAS     Wraps     MR-J          97.5           100     180.0     195.0    -200.0       NaN         195.0     102.5     107.5    -110.0         107.5        225.0       -230.0        230.0          NaN            230.0    532.5   SBD                      Portside Barbell\n",
      "48      1            William Boyle   M  2000-02-10  22.0  Australia   TAS     Wraps     MR-J         108.4           110     210.0     225.0     240.0       NaN         240.0     110.0     117.5     125.0         125.0        235.0        255.0        270.0          NaN            270.0    635.0   SBD                      Competitive Edge\n",
      "49      1             Nick Baldock   M  1979-09-22  42.0  Australia   TAS     Wraps    MR-M1         120.2           125     245.0     260.0     270.0       NaN         270.0     142.5     152.5    -160.0         152.5        240.0        255.0       -270.0          NaN            255.0    677.5   SBD                                   TSD\n",
      "50      1               Edan Davey   M  1973-01-15  49.0  Australia   TAS     Wraps    MR-M1         165.2          140+    -325.0     325.0     345.5       NaN         345.5     150.0     157.5     160.0         160.0        330.0        345.0          NaN          NaN            345.0    850.5   SBD                                 ZeroW\n",
      "51      1            Brodey Peters   M  2004-10-23  17.0  Australia   TAS     Wraps    MR-SJ          54.6            56     130.0     137.5     142.5       NaN         142.5      70.0      75.0     -80.0          75.0        130.0        140.0        145.0        150.0            145.0    362.5   SBD                          Iron born sc\n",
      "52      1           Daniel Douglas   M  2005-06-10  17.0  Australia   TAS     Wraps    MR-SJ          58.8            60     120.0     130.0    -140.0       NaN         130.0      65.0      70.0     -75.0          70.0        130.0        140.0        150.0       -155.0            150.0    350.0   SBD                      Competitive Edge\n",
      "53      1               Harry Kuys   M  2005-02-19  17.0  Australia   TAS     Wraps    MR-SJ          66.4          67.5     130.0     140.0     147.5       NaN         147.5      75.0      82.5     -87.5          82.5        155.0        160.0          NaN          NaN            160.0    390.0   SBD                             Iron born\n",
      "54      1        Shannon Alexander   M  2005-01-20  17.0  Australia   TAS     Wraps    MR-SJ          74.7            75     180.0    -192.5     192.5       NaN         192.5     110.0     115.0     120.0         120.0        175.0        190.0        195.0          NaN            195.0    507.5   SBD                      Portside Barbell\n",
      "55      2           Matthew Wright   M  2003-05-30   NaN  Australia   TAS     Wraps    MR-SJ          74.4            75     180.0     190.0     200.0       NaN         200.0      95.0    -100.0    -100.0          95.0        195.0        207.5       -212.5          NaN            207.5    502.5   SBD                 Lift/Competitive Edge\n",
      "56      1               Max Peters   M  2005-01-17  17.0  Australia   TAS     Wraps    MR-SJ          80.5          82.5     190.0     202.5    -205.0       NaN         202.5     120.0     127.5     132.5         132.5        225.0        235.0        245.0          NaN            245.0    580.0   SBD                                   NaN\n",
      "57      2           Isaac Pedersen   M  2004-11-16  17.0  Australia   TAS     Wraps    MR-SJ          78.7          82.5     135.0     145.0     155.0       NaN         155.0      95.0     102.5     105.0         105.0        165.0        180.0        192.5          NaN            192.5    452.5   SBD                      Competitive Edge\n",
      "58      3           Samuel Wolrige   M  2002-08-07  19.0  Australia   TAS     Wraps    MR-SJ          81.5          82.5     130.0     145.0     155.0       NaN         155.0      95.0     105.0     110.0         110.0        160.0        175.0        187.5          NaN            187.5    452.5   SBD                              Utas Gym\n",
      "59      1              Lewis Coull   M  2002-12-20  19.0  Australia   TAS     Wraps    MR-SJ          88.5            90     170.0    -180.0     180.0       NaN         180.0     105.0     115.0     120.0         120.0        195.0        210.0       -215.0          NaN            210.0    510.0   SBD                      Competitive Edge\n",
      "60      2                Kade Wall   M  2002-08-06  19.0  Australia   TAS     Wraps    MR-SJ          86.1            90     180.0     190.0     200.0       NaN         200.0     107.5    -115.0    -115.0         107.5        185.0        200.0       -212.5          NaN            200.0    507.5   SBD                      Portside barbell\n",
      "61      1             Blake Thomas   M  2005-05-30  17.0  Australia   TAS     Wraps    MR-SJ          98.5           100     170.0    -180.0     180.0       NaN         180.0     115.0    -122.5     122.5         122.5        190.0        205.0        210.0          NaN            210.0    512.5   SBD                      Competitive edge\n",
      "62      2         Jack Williams #5   M  2004-10-01  17.0  Australia   TAS     Wraps    MR-SJ          97.6           100     155.0     165.0     180.0       NaN         180.0      95.0     102.5     110.0         110.0        175.0        187.5       -200.0          NaN            187.5    477.5   SBD                                  LIFT\n",
      "63      3                Tom Crack   M  2003-09-01  18.0  Australia   TAS     Wraps    MR-SJ          93.4           100     145.0     155.0     170.0       NaN         170.0      95.0    -100.0    -100.0          95.0        192.5        202.5        210.0        212.5            210.0    475.0   SBD                      Competitive Edge\n",
      "64      1          Billy Flakemore   M  1996-07-22  25.0  Australia   TAS     Wraps     MR-O          67.0          67.5     180.0     195.5    -202.5       NaN         195.5      95.0     102.5     107.5         107.5        220.0        230.0       -240.0          NaN            230.0    533.0   SBD                      Competitive Edge\n",
      "65      1             Theo Randall   M  1997-10-24  24.0  Australia   TAS     Wraps     MR-O          80.1          82.5    -195.0     195.0    -205.0       NaN         195.0    -110.0     117.5    -122.5         117.5        205.0       -215.0       -215.0          NaN            205.0    517.5   SBD                      Portside barbell\n",
      "66      2         Harlee Chauntler   M  1993-08-25  28.0  Australia   TAS     Wraps     MR-O          81.6          82.5     120.0     130.0     135.0       NaN         135.0      77.5      82.5     -85.0          82.5        160.0        172.5        180.0          NaN            180.0    397.5   SBD                      Competitive edge\n",
      "67      1               Peter Pike   M  1988-09-06  33.0  Australia   TAS     Wraps     MR-O          88.8            90     230.0     250.0     270.0       NaN         270.0     145.0     155.0    -160.0         155.0        275.0        292.5        301.0          NaN            301.0    726.0   SBD                      Competitive Edge\n",
      "68      2            Dylan Chester   M  1993-02-16  29.0  Australia   TAS     Wraps     MR-O          88.6            90     197.5     207.5     212.5       NaN         212.5     120.0    -125.0    -125.0         120.0        230.0       -242.5          NaN          NaN            230.0    562.5   SBD                              Ironborn\n",
      "69      3             Wade Musicka   M  1996-01-19  26.0  Australia   TAS     Wraps     MR-O          86.6            90     180.0     195.0     205.0       NaN         205.0     100.0    -107.5     107.5         107.5        215.0        230.0       -235.0          NaN            230.0    542.5   SBD                      Competitive Edge\n",
      "70      4             Jamie Bayles   M  1990-01-30  32.0  Australia   TAS     Wraps     MR-O          89.7            90     150.0     162.5     172.5       NaN         172.5     115.0     122.5    -130.0         122.5        185.0        195.0        205.0          NaN            205.0    500.0   SBD                             Iron Born\n",
      "71      1             Matto Vuceti   M  1990-04-07  32.0  Australia   TAS     Wraps     MR-O          98.9           100     245.0     265.0     270.0       NaN         270.0     150.0     160.0     165.0         165.0        250.0        260.0        265.0          NaN            265.0    700.0   SBD   Portside barbell/Limitless strength\n",
      "72      2              Andy Barron   M  1993-10-19  28.0  Australia   TAS     Wraps     MR-O          94.6           100     230.0     250.0     260.0       NaN         260.0     140.0     155.0    -170.0         155.0        240.0        260.0       -282.5          NaN            260.0    675.0   SBD                      Competitive edge\n",
      "73      3          Anthony Xepapas   M  1989-08-28  32.0  Australia   TAS     Wraps     MR-O          97.7           100     220.0     235.0    -250.0       NaN         235.0     135.0     140.0    -150.0         140.0        245.0        260.0       -265.0          NaN            260.0    635.0   SBD                             Leviathan\n",
      "74      4         Joshua Eskildsen   M  1995-01-30  27.0  Australia   TAS     Wraps     MR-O          96.4           100     215.0     220.0    -230.0       NaN         220.0    -135.0     135.0    -145.0         135.0        220.0        240.0       -250.0          NaN            240.0    595.0   SBD                      Competitive edge\n",
      "75      5            Isaac Breaden   M  1998-02-25  24.0  Australia   TAS     Wraps     MR-O          95.6           100     180.0     190.0     200.0       NaN         200.0      82.5      90.0      95.0          95.0        220.0        240.0        250.0          NaN            250.0    545.0   SBD                      Competitive edge\n",
      "76      6            Adrian Harmer   M  1985-12-04  36.0  Australia   TAS     Wraps     MR-O          99.8           100     155.0     165.0     175.0       NaN         175.0      95.0     102.5    -110.0         102.5        190.0       -205.0       -205.0          NaN            190.0    467.5   SBD                           Ironborn_sc\n",
      "77      7          Daniel McKinlay   M  1985-11-22  36.0  Australia   TAS     Wraps     MR-O          98.4           100     140.0     150.0    -157.5       NaN         150.0      80.0      90.0      95.0          95.0        150.0        170.0        180.0          NaN            180.0    425.0   SBD                    Leviathan Strength\n",
      "78      1            Kayden Weller   M  1994-12-08   NaN  Australia   TAS     Wraps     MR-O         109.2           110     295.0     310.0    -325.0       NaN         310.0     150.0     157.5    -162.5         157.5        282.5        305.0        320.0          NaN            320.0    787.5   SBD                 Portside / Team Zerow\n",
      "79      2           Michael Murfet   M  1988-05-24   NaN  Australia   TAS     Wraps     MR-O         104.2           110    -240.0     250.0     260.0       NaN         260.0     145.0     152.5     155.0         155.0        260.0        280.0       -300.0          NaN            280.0    695.0   SBD                      Competitive Edge\n",
      "80      3            Michael Grace   M         NaN  35.0  Australia   TAS     Wraps     MR-O         108.0           110     240.0     252.5     260.0       NaN         260.0     147.5     155.0    -160.0         155.0        225.0        240.0       -250.0          NaN            240.0    655.0   SBD                             Iron Born\n",
      "81      4          Jacob Hudson #1   M  1991-01-21  31.0  Australia   TAS     Wraps     MR-O         108.8           110     135.0     150.0     160.0       NaN         160.0      95.0     102.5    -107.5         102.5        150.0        165.0       -170.0          NaN            165.0    427.5   SBD               Modus/ Portside Barbell\n",
      "82      1               Nick Cross   M  1988-10-17  33.0  Australia   TAS     Wraps     MR-O         122.6           125     265.0     285.0       NaN       NaN         285.0     165.0     172.5     180.0         180.0        265.0        285.0        300.0          NaN            300.0    765.0   SBD                      Portside Barbell\n",
      "83      2          Dillon Satchell   M  1992-05-27   NaN  Australia   TAS     Wraps     MR-O         124.6           125     240.0     252.5     255.0       NaN         255.0     152.5    -157.5    -157.5         152.5        267.5        275.0        280.0          NaN            280.0    687.5   SBD                             Leviathan\n",
      "84      3             Brodie Smith   M  1994-06-28  27.0  Australia   TAS     Wraps     MR-O         117.6           125     145.0     152.5     160.0       NaN         160.0     102.5    -110.0     110.0         110.0        190.0        200.0       -212.5          NaN            200.0    470.0   SBD                      Portside barbell\n",
      "85      1             Carl Pearson   M  1984-03-20  38.0  Australia   TAS     Wraps     MR-O         133.4           140    -245.0     245.0    -260.0       NaN         245.0     160.0    -170.0     175.0         175.0        245.0       -260.0       -262.5          NaN            245.0    665.0   SBD                        Silverback Den\n",
      "86      1           Mohinder Sidhu   M  1993-12-10  28.0  Australia   TAS     Wraps     MR-O         147.0          140+     250.0     270.0    -280.0       NaN         270.0     145.0     155.0     160.0         160.0        240.0        260.0        270.0          NaN            270.0    700.0   SBD                              Home gym\n",
      "87      1         Declan Dullaghan   M  2006-11-21  15.0  Australia   TAS     Wraps     MR-T          59.1            60      90.0     100.0     102.5       NaN         102.5      62.5      67.5     -70.0          67.5        130.0        142.5       -152.5          NaN            142.5    312.5   SBD           competitive edge / lift gym\n",
      "88      1              Oliver Dean   M  2006-09-07  15.0  Australia   TAS     Wraps     MR-T          66.5          67.5     142.5     152.5     160.0       NaN         160.0      92.5     100.0    -102.5         100.0       -170.0       -190.0        190.0       -203.0            190.0    450.0   SBD                      Competitive Edge\n",
      "89      2          Luke Vandenberg   M  2005-07-11  16.0  Australia   TAS     Wraps     MR-T          65.7          67.5     130.0     140.0    -145.0       NaN         140.0      80.0     -87.5       NaN          80.0        155.0        175.0        190.0       -202.5            190.0    410.0   SBD                                  Lift\n",
      "90      3             Josh Corkery   M  2006-02-08  16.0  Australia   TAS     Wraps     MR-T          67.5          67.5    -100.0    -100.0     100.0       NaN         100.0      70.0      80.0     -85.0          80.0        180.0        190.0       -200.5          NaN            190.0    370.0   SBD                             joes shed\n",
      "91      1           Harry Bartlett   M  2005-07-15  16.0  Australia   TAS     Wraps     MR-T          74.0            75     160.0     170.0    -175.0       NaN         170.0      80.0      85.0     -90.0          85.0        185.0        200.0       -210.0          NaN            200.0    455.0   SBD                         Iron born s&c\n",
      "92      2               Ben Potter   M  2007-08-09  14.0  Australia   TAS     Wraps     MR-T          71.8            75     140.0     150.0     155.0       NaN         155.0      72.5      80.0      85.0          85.0        160.0        180.0       -190.5          NaN            180.0    420.0   SBD                      Competitive Edge\n",
      "93      3            Isaak Fischer   M  2005-10-04  16.0  Australia   TAS     Wraps     MR-T          74.1            75     130.0     140.0     145.0       NaN         145.0      87.5      92.5    -100.0          92.5        140.0        155.0        170.0          NaN            170.0    407.5   SBD                      Portside barbell\n",
      "94      1           Dougal Jackson   M  2006-02-24  16.0  Australia   TAS     Wraps     MR-T          95.5           100     140.0     160.0     175.0       NaN         175.0    -102.5     102.5     105.0         105.0        180.0       -200.0        210.0        220.0            210.0    490.0   SBD                      Portside Barbell\n",
      "95      2              Gus Garrard   M  2006-03-02  16.0  Australia   TAS     Wraps     MR-T          99.6           100     155.0     165.0     175.0       NaN         175.0      92.5      97.5    -100.0          97.5        195.0       -205.5        205.5       -210.0            205.5    478.0   SBD                      The strength den\n",
      "96      1               Jake Pegus   M  2008-06-11  14.0  Australia   TAS     Wraps     MR-T          53.4            56      57.5     -65.0      65.0       NaN          65.0      32.5      37.5     -40.0          37.5         70.0         77.5         85.0          NaN             85.0    187.5   SBD                                   TSD\n",
      "97      1            Isaac Gillard   M  1999-11-22  22.0  Australia   TAS       Raw     MR-J          86.9            90       NaN       NaN       NaN       NaN           NaN     147.5     155.0    -162.5         155.0        205.0       -215.0          NaN          NaN            205.0    360.0    BD                      Portside barbell\n",
      "98      1             Jack Sterpin   M  2000-02-04  22.0  Australia   TAS       Raw     MR-J          94.6           100       NaN       NaN       NaN       NaN           NaN     125.0     135.0    -140.0         135.0        185.0        205.0        215.0          NaN            215.0    350.0    BD   Slaughter house Launceston/ nextgen\n",
      "99      1             Nick Bennett   M  1962-09-01  59.0  Australia   TAS       Raw    MR-M2         114.6           125       NaN       NaN       NaN       NaN           NaN     115.0     122.5    -127.5         122.5        185.0        202.5        207.5          NaN            207.5    330.0    BD                         TSD Iron Born\n",
      "100     1                Leo O'Dea   M  1960-11-03  61.0  Australia   TAS       Raw    MR-M3          70.4            75       NaN       NaN       NaN       NaN           NaN      50.0     -52.5      52.5          52.5        115.0        120.0        125.0        130.0            125.0    177.5    BD                       Iron Dragon Gym\n",
      "101     1              Jonty Lucas   M  2003-10-28  18.0  Australia   TAS       Raw    MR-SJ          97.1           100       NaN       NaN       NaN       NaN           NaN      97.5     102.5    -107.5         102.5        195.0        210.0        220.0        230.0            220.0    322.5    BD                                   Tsd\n",
      "102     1       Beau von Stieglitz   M  1987-12-02  34.0  Australia   TAS       Raw     MR-O          99.8           100       NaN       NaN       NaN       NaN           NaN     160.0     170.0       NaN         170.0        260.0        275.0        287.5          NaN            287.5    457.5    BD                      Portside Barbell\n",
      "103     1              Joe Donohue   M  1983-07-03  38.0  Australia   TAS       Raw     MR-O         104.6           110       NaN       NaN       NaN       NaN           NaN     150.0     160.0     162.5         162.5        230.0        242.5       -252.5          NaN            242.5    405.0    BD            Slaughter house Launceston\n",
      "104     1              Lee Barnett   M  1975-06-25  46.0  Australia   TAS       Raw    MR-M1         107.8           110       NaN       NaN       NaN       NaN           NaN     140.0     145.0       NaN         145.0          NaN          NaN          NaN          NaN              NaN    145.0     B                       Lift launceston\n",
      "105     1          Daniel Williams   M  1993-12-27  28.0  Australia   TAS       Raw     MR-O         108.2           110       NaN       NaN       NaN       NaN           NaN     150.0     160.0     165.0         165.0          NaN          NaN          NaN          NaN              NaN    165.0     B  Leviathan strength- Competitive Edge\n",
      "106    NS            Nathan Rhodes   M  1976-01-02  46.0  Australia   TAS       Raw    MR-M1         101.6           110       NaN       NaN       NaN       NaN           NaN       NaN       NaN       NaN           NaN          NaN          NaN          NaN          NaN              NaN      NaN     D             SlaughterHouse Launceston\n",
      "107     1               Zac Seadon   M  2003-02-01  19.0  Australia   TAS       Raw    MR-SJ          98.4           100       NaN       NaN       NaN       NaN           NaN       NaN       NaN       NaN           NaN        260.0        285.0        300.0          NaN            300.0    300.0     D         Slaughterhouse Gym Launceston\n",
      "108     1         Patrick Neumayer   M         NaN  39.0  Australia   TAS       Raw     MR-O         157.0          140+       NaN       NaN       NaN       NaN           NaN       NaN       NaN       NaN           NaN        245.0        260.0       -275.0          NaN            260.0    260.0     D                    Leviathan Strength\n"
     ]
    }
   ],
   "source": [
    "df1 = pd.read_csv(r'C:\\Users\\James\\1161\\PowerliftingExploration\\entries.csv')\n",
    "\n",
    "print(df1.to_string()) \n"
   ]
  },
  {
   "cell_type": "code",
   "execution_count": 13,
   "metadata": {},
   "outputs": [
    {
     "data": {
      "text/plain": [
       "Index(['Place', 'Name', 'Sex', 'BirthDate', 'Age', 'Country', 'State',\n",
       "       'Equipment', 'Division', 'BodyweightKg', 'WeightClassKg', 'Squat1Kg',\n",
       "       'Squat2Kg', 'Squat3Kg', 'Squat4Kg', 'Best3SquatKg', 'Bench1Kg',\n",
       "       'Bench2Kg', 'Bench3Kg', 'Best3BenchKg', 'Deadlift1Kg', 'Deadlift2Kg',\n",
       "       'Deadlift3Kg', 'Deadlift4Kg', 'Best3DeadliftKg', 'TotalKg', 'Event',\n",
       "       'Team'],\n",
       "      dtype='object')"
      ]
     },
     "execution_count": 13,
     "metadata": {},
     "output_type": "execute_result"
    }
   ],
   "source": [
    "df1.columns"
   ]
  },
  {
   "cell_type": "code",
   "execution_count": null,
   "metadata": {},
   "outputs": [],
   "source": [
    "from re import M\n",
    "df = df1\n",
    "dfW = df1[df['Sex'].str.startswith('F')]\n",
    "print(dfW.to_string()) \n"
   ]
  },
  {
   "cell_type": "code",
   "execution_count": null,
   "metadata": {},
   "outputs": [],
   "source": [
    "from re import M\n",
    "df = df1\n",
    "dfM = df1[df['Sex'].str.startswith('M')]\n",
    "print(dfM.to_string()) \n"
   ]
  },
  {
   "cell_type": "code",
   "execution_count": 16,
   "metadata": {},
   "outputs": [
    {
     "data": {
      "text/html": [
       "<div>\n",
       "<style scoped>\n",
       "    .dataframe tbody tr th:only-of-type {\n",
       "        vertical-align: middle;\n",
       "    }\n",
       "\n",
       "    .dataframe tbody tr th {\n",
       "        vertical-align: top;\n",
       "    }\n",
       "\n",
       "    .dataframe thead th {\n",
       "        text-align: right;\n",
       "    }\n",
       "</style>\n",
       "<table border=\"1\" class=\"dataframe\">\n",
       "  <thead>\n",
       "    <tr style=\"text-align: right;\">\n",
       "      <th></th>\n",
       "      <th>Place</th>\n",
       "      <th>Name</th>\n",
       "      <th>Sex</th>\n",
       "      <th>BirthDate</th>\n",
       "      <th>Age</th>\n",
       "      <th>Country</th>\n",
       "      <th>State</th>\n",
       "      <th>Equipment</th>\n",
       "      <th>Division</th>\n",
       "      <th>BodyweightKg</th>\n",
       "      <th>...</th>\n",
       "      <th>Bench3Kg</th>\n",
       "      <th>Best3BenchKg</th>\n",
       "      <th>Deadlift1Kg</th>\n",
       "      <th>Deadlift2Kg</th>\n",
       "      <th>Deadlift3Kg</th>\n",
       "      <th>Deadlift4Kg</th>\n",
       "      <th>Best3DeadliftKg</th>\n",
       "      <th>TotalKg</th>\n",
       "      <th>Event</th>\n",
       "      <th>Team</th>\n",
       "    </tr>\n",
       "  </thead>\n",
       "  <tbody>\n",
       "    <tr>\n",
       "      <th>0</th>\n",
       "      <td>1</td>\n",
       "      <td>Indiana Love</td>\n",
       "      <td>F</td>\n",
       "      <td>2000-05-21</td>\n",
       "      <td>NaN</td>\n",
       "      <td>Australia</td>\n",
       "      <td>TAS</td>\n",
       "      <td>Wraps</td>\n",
       "      <td>FR-J</td>\n",
       "      <td>55.6</td>\n",
       "      <td>...</td>\n",
       "      <td>-47.5</td>\n",
       "      <td>45.0</td>\n",
       "      <td>85.0</td>\n",
       "      <td>-90.0</td>\n",
       "      <td>90.0</td>\n",
       "      <td>NaN</td>\n",
       "      <td>90.0</td>\n",
       "      <td>207.5</td>\n",
       "      <td>SBD</td>\n",
       "      <td>Competitive Edge</td>\n",
       "    </tr>\n",
       "    <tr>\n",
       "      <th>1</th>\n",
       "      <td>1</td>\n",
       "      <td>Caitlin Mulligan</td>\n",
       "      <td>F</td>\n",
       "      <td>1999-09-12</td>\n",
       "      <td>22.0</td>\n",
       "      <td>Australia</td>\n",
       "      <td>TAS</td>\n",
       "      <td>Wraps</td>\n",
       "      <td>FR-J</td>\n",
       "      <td>59.8</td>\n",
       "      <td>...</td>\n",
       "      <td>-72.5</td>\n",
       "      <td>70.0</td>\n",
       "      <td>135.0</td>\n",
       "      <td>155.0</td>\n",
       "      <td>160.0</td>\n",
       "      <td>NaN</td>\n",
       "      <td>160.0</td>\n",
       "      <td>365.0</td>\n",
       "      <td>SBD</td>\n",
       "      <td>Competitive Edge</td>\n",
       "    </tr>\n",
       "    <tr>\n",
       "      <th>2</th>\n",
       "      <td>2</td>\n",
       "      <td>India Graham</td>\n",
       "      <td>F</td>\n",
       "      <td>NaN</td>\n",
       "      <td>23.0</td>\n",
       "      <td>Australia</td>\n",
       "      <td>TAS</td>\n",
       "      <td>Wraps</td>\n",
       "      <td>FR-J</td>\n",
       "      <td>59.1</td>\n",
       "      <td>...</td>\n",
       "      <td>67.5</td>\n",
       "      <td>67.5</td>\n",
       "      <td>125.0</td>\n",
       "      <td>132.5</td>\n",
       "      <td>-137.5</td>\n",
       "      <td>NaN</td>\n",
       "      <td>132.5</td>\n",
       "      <td>322.5</td>\n",
       "      <td>SBD</td>\n",
       "      <td>Modus Performance</td>\n",
       "    </tr>\n",
       "    <tr>\n",
       "      <th>3</th>\n",
       "      <td>3</td>\n",
       "      <td>Anna Down</td>\n",
       "      <td>F</td>\n",
       "      <td>1999-09-30</td>\n",
       "      <td>22.0</td>\n",
       "      <td>Australia</td>\n",
       "      <td>TAS</td>\n",
       "      <td>Wraps</td>\n",
       "      <td>FR-J</td>\n",
       "      <td>58.1</td>\n",
       "      <td>...</td>\n",
       "      <td>-50.0</td>\n",
       "      <td>47.5</td>\n",
       "      <td>90.0</td>\n",
       "      <td>95.0</td>\n",
       "      <td>100.0</td>\n",
       "      <td>NaN</td>\n",
       "      <td>100.0</td>\n",
       "      <td>245.0</td>\n",
       "      <td>SBD</td>\n",
       "      <td>Competitive Edge</td>\n",
       "    </tr>\n",
       "    <tr>\n",
       "      <th>4</th>\n",
       "      <td>DQ</td>\n",
       "      <td>Ashley Hall</td>\n",
       "      <td>F</td>\n",
       "      <td>1999-11-09</td>\n",
       "      <td>22.0</td>\n",
       "      <td>Australia</td>\n",
       "      <td>TAS</td>\n",
       "      <td>Wraps</td>\n",
       "      <td>FR-J</td>\n",
       "      <td>57.6</td>\n",
       "      <td>...</td>\n",
       "      <td>-47.5</td>\n",
       "      <td>45.0</td>\n",
       "      <td>NaN</td>\n",
       "      <td>NaN</td>\n",
       "      <td>NaN</td>\n",
       "      <td>NaN</td>\n",
       "      <td>NaN</td>\n",
       "      <td>NaN</td>\n",
       "      <td>SBD</td>\n",
       "      <td>Leviathan strength</td>\n",
       "    </tr>\n",
       "  </tbody>\n",
       "</table>\n",
       "<p>5 rows × 28 columns</p>\n",
       "</div>"
      ],
      "text/plain": [
       "  Place              Name Sex   BirthDate   Age    Country State Equipment  \\\n",
       "0     1      Indiana Love   F  2000-05-21   NaN  Australia   TAS     Wraps   \n",
       "1     1  Caitlin Mulligan   F  1999-09-12  22.0  Australia   TAS     Wraps   \n",
       "2     2      India Graham   F         NaN  23.0  Australia   TAS     Wraps   \n",
       "3     3         Anna Down   F  1999-09-30  22.0  Australia   TAS     Wraps   \n",
       "4    DQ       Ashley Hall   F  1999-11-09  22.0  Australia   TAS     Wraps   \n",
       "\n",
       "  Division  BodyweightKg  ... Bench3Kg  Best3BenchKg  Deadlift1Kg  \\\n",
       "0     FR-J          55.6  ...    -47.5          45.0         85.0   \n",
       "1     FR-J          59.8  ...    -72.5          70.0        135.0   \n",
       "2     FR-J          59.1  ...     67.5          67.5        125.0   \n",
       "3     FR-J          58.1  ...    -50.0          47.5         90.0   \n",
       "4     FR-J          57.6  ...    -47.5          45.0          NaN   \n",
       "\n",
       "   Deadlift2Kg  Deadlift3Kg  Deadlift4Kg  Best3DeadliftKg  TotalKg  Event  \\\n",
       "0        -90.0         90.0          NaN             90.0    207.5    SBD   \n",
       "1        155.0        160.0          NaN            160.0    365.0    SBD   \n",
       "2        132.5       -137.5          NaN            132.5    322.5    SBD   \n",
       "3         95.0        100.0          NaN            100.0    245.0    SBD   \n",
       "4          NaN          NaN          NaN              NaN      NaN    SBD   \n",
       "\n",
       "                 Team  \n",
       "0    Competitive Edge  \n",
       "1    Competitive Edge  \n",
       "2   Modus Performance  \n",
       "3    Competitive Edge  \n",
       "4  Leviathan strength  \n",
       "\n",
       "[5 rows x 28 columns]"
      ]
     },
     "execution_count": 16,
     "metadata": {},
     "output_type": "execute_result"
    }
   ],
   "source": [
    "df1.head()"
   ]
  },
  {
   "cell_type": "code",
   "execution_count": 17,
   "metadata": {},
   "outputs": [
    {
     "data": {
      "image/png": "[encoded data removed]",
      "text/plain": [
       "<Figure size 432x288 with 1 Axes>"
      ]
     },
     "metadata": {
      "needs_background": "light"
     },
     "output_type": "display_data"
    }
   ],
   "source": [
    "\n",
    "dfM.plot(kind='scatter', x='WeightClassKg', y='TotalKg', facecolor='green', alpha=0.75, grid=10,)\n",
    "\n",
    "plt.show()"
   ]
  },
  {
   "cell_type": "code",
   "execution_count": null,
   "metadata": {},
   "outputs": [],
   "source": [
    "df1 = pd.read_csv(r'C:\\Users\\James\\1161\\PowerliftingExploration\\entries.csv')\n",
    "\n",
    "print(df1.to_string()) \n"
   ]
  },
  {
   "cell_type": "code",
   "execution_count": null,
   "metadata": {},
   "outputs": [],
   "source": [
    "sdfM = dfM.sort_values(by='BodyweightKg',ascending=True)\n",
    "print(sdfM.to_string()) \n"
   ]
  },
  {
   "cell_type": "code",
   "execution_count": null,
   "metadata": {},
   "outputs": [],
   "source": [
    "sdfW = dfW.sort_values(by='BodyweightKg',ascending=True)\n",
    "print(sdfW.to_string()) "
   ]
  },
  {
   "cell_type": "code",
   "execution_count": 25,
   "metadata": {
    "scrolled": true
   },
   "outputs": [
    {
     "data": {
      "image/png": "[encoded data removed]",
      "text/plain": [
       "<Figure size 432x288 with 1 Axes>"
      ]
     },
     "metadata": {
      "needs_background": "light"
     },
     "output_type": "display_data"
    }
   ],
   "source": [
    "ax = sdfM.plot(\"BodyweightKg\", \"TotalKg\",grid = 100,color = \"blue\", alpha = 0.75)\n",
    "ax.set_xlabel(\"Body Weight\")\n",
    "ax.set_ylabel(\"Total Amount of Weight\")\n",
    "ax.set_title(\"Bodyweight to Total Weight \")\n",
    "ax.setgrid= (\"True\")"
   ]
  },
  {
   "cell_type": "code",
   "execution_count": 27,
   "metadata": {
    "scrolled": false
   },
   "outputs": [
    {
     "data": {
      "image/png": "[encoded data removed]",
      "text/plain": [
       "<Figure size 432x288 with 1 Axes>"
      ]
     },
     "metadata": {
      "needs_background": "light"
     },
     "output_type": "display_data"
    }
   ],
   "source": [
    "ax = sdfW.plot(\"BodyweightKg\", \"TotalKg\",grid = 100,color = \"blue\", alpha = 0.75)\n",
    "ax.set_xlabel(\"Body Weight\")\n",
    "ax.set_ylabel(\"Total Amount of Weight\")\n",
    "ax.set_title(\"Bodyweight to Total Weight \")\n",
    "ax.setgrid= (\"True\")"
   ]
  },
  {
   "cell_type": "code",
   "execution_count": 21,
   "metadata": {
    "scrolled": true
   },
   "outputs": [
    {
     "data": {
      "text/plain": [
       "0    207.5\n",
       "1    365.0\n",
       "2    322.5\n",
       "3    245.0\n",
       "4      NaN\n",
       "Name: TotalKg, dtype: float64"
      ]
     },
     "execution_count": 21,
     "metadata": {},
     "output_type": "execute_result"
    }
   ],
   "source": [
    "women_totalkg = dfW['TotalKg']\n",
    "women_totalkg.head()"
   ]
  }
 ],
 "metadata": {
  "kernelspec": {
   "display_name": "Python 3 (ipykernel)",
   "language": "python",
   "name": "python3"
  },
  "language_info": {
   "codemirror_mode": {
    "name": "ipython",
    "version": 3
   },
   "file_extension": ".py",
   "mimetype": "text/x-python",
   "name": "python",
   "nbconvert_exporter": "python",
   "pygments_lexer": "ipython3",
   "version": "3.10.4"
  },
  "vscode": {
   "interpreter": {
    "hash": "e97064513f0d268e2f073204e543b8077386c7433ee9f7232070081c2302a999"
   }
  }
 },
 "nbformat": 4,
 "nbformat_minor": 2
}
